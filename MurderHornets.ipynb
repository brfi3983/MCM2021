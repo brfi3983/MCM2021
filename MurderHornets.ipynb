{
 "cells": [
  {
   "cell_type": "markdown",
   "metadata": {},
   "source": [
    "\n",
    "MCM 2021\n",
    "Murder Hornets"
   ]
  },
  {
   "cell_type": "code",
   "execution_count": 9,
   "metadata": {},
   "outputs": [],
   "source": [
    "import numpy as np\n",
    "import pandas as pd\n",
    "import nltk\n",
    "import matplotlib.pyplot as plt\n",
    "plt.style.use('ggplot')"
   ]
  },
  {
   "cell_type": "code",
   "execution_count": 10,
   "metadata": {},
   "outputs": [],
   "source": [
    "df = pd.read_csv('/Users/allisonliu/Desktop/MCM2021/data/2021_MCM_Problem_C_Data/2021MCMProblemC_DataSet.csv')\n",
    "# df_images = pd.read_csv('/Users/allisonliu/Desktop/MCM2021/data/2021_MCM_Problem_C_Data/2021MCM_ProblemC_ Images_by_GlobalID.csv')\n",
    "    \n",
    "df_positive = df.loc[df['Lab Status'] == 'Positive ID']\n",
    "df_negative = df.loc[df['Lab Status'] == 'Negative ID']\n",
    "df_unprocessed = df.loc[df['Lab Status'] == 'Unprocessed']\n",
    "\n",
    "num_pos = len(df_positive)\n",
    "num_neg = len(df_negative)\n",
    "num_unproc = len(df_unprocessed)"
   ]
  },
  {
   "cell_type": "code",
   "execution_count": 11,
   "metadata": {},
   "outputs": [
    {
     "data": {
      "text/plain": [
       "Index(['GlobalID', 'Detection Date', 'Notes', 'Lab Status', 'Lab Comments',\n",
       "       'Submission Date', 'Latitude', 'Longitude'],\n",
       "      dtype='object')"
      ]
     },
     "execution_count": 11,
     "metadata": {},
     "output_type": "execute_result"
    }
   ],
   "source": [
    "df_positive.columns"
   ]
  },
  {
   "cell_type": "code",
   "execution_count": 12,
   "metadata": {},
   "outputs": [
    {
     "data": {
      "text/plain": [
       "(4440, 5620)"
      ]
     },
     "execution_count": 12,
     "metadata": {},
     "output_type": "execute_result"
    }
   ],
   "source": [
    "# df_positive['Notes']\n",
    "from sklearn.feature_extraction.text import CountVectorizer\n",
    "from sklearn.feature_extraction.text import TfidfTransformer\n",
    "\n",
    "count_vect = CountVectorizer()\n",
    "#POSITIVE\n",
    "X_train_pos_counts = count_vect.fit_transform(df_positive['Notes']) #create feature vector\n",
    "X_train_pos_counts.shape\n",
    "\n",
    "# tfidf_transformer = TfidfTransformer()\n",
    "# X_train_pos_tfidf = tfidf_transformer.fit_transform(X_train_pos_counts)\n",
    "# X_train_pos_tfidf.shape #[n_samples, n_features]\n",
    "\n",
    "# #NEGATIVE\n",
    "X_train_neg_counts = count_vect.fit_transform(df_negative['Notes']) #create feature vector\n",
    "X_train_neg_counts.shape\n",
    "\n",
    "# tfidf_transformer = TfidfTransformer() #term frequency times inverse document frequency\n",
    "# X_train_neg_tfidf = tfidf_transformer.fit_transform(X_train_neg_counts) # weight statements equally, less weight to common words\n",
    "# X_train_neg_tfidf.shape #(n_samples, n_features)\n",
    "\n",
    "#ALL TRAINING\n",
    "X_train_counts = count_vect.fit_transform(df['Notes']) #create feature vector\n",
    "X_train_counts.shape\n",
    "\n",
    "tfidf_transformer = TfidfTransformer() #term frequency times inverse document frequency\n",
    "X_train_tfidf = tfidf_transformer.fit_transform(X_train_counts) # weight statements equally, less weight to common words\n",
    "X_train_tfidf.shape #(n_samples, n_features)"
   ]
  },
  {
   "cell_type": "code",
   "execution_count": 13,
   "metadata": {},
   "outputs": [],
   "source": [
    "# print(X_train_pos_counts)\n",
    "# print(X_train_neg_counts)"
   ]
  },
  {
   "cell_type": "code",
   "execution_count": 14,
   "metadata": {},
   "outputs": [
    {
     "data": {
      "text/plain": [
       "0       Positive ID\n",
       "1       Positive ID\n",
       "3       Positive ID\n",
       "6       Negative ID\n",
       "8       Negative ID\n",
       "           ...     \n",
       "4412    Negative ID\n",
       "4419    Negative ID\n",
       "4420    Negative ID\n",
       "4421    Negative ID\n",
       "4423    Negative ID\n",
       "Name: Lab Status, Length: 2083, dtype: object"
      ]
     },
     "execution_count": 14,
     "metadata": {},
     "output_type": "execute_result"
    }
   ],
   "source": [
    "df_train['Lab Status']"
   ]
  },
  {
   "cell_type": "code",
   "execution_count": 15,
   "metadata": {},
   "outputs": [],
   "source": [
    "df_temp = (df[df['Lab Status']!='Unprocessed'])\n",
    "df_train = df_temp[df_temp['Lab Status'] != 'Unverified'] #No unprocessed or unverified data\n",
    "# print(df_train)"
   ]
  },
  {
   "cell_type": "code",
   "execution_count": 20,
   "metadata": {},
   "outputs": [],
   "source": [
    "from sklearn.naive_bayes import MultinomialNB\n",
    "# clf = MultinomialNB().fit(X_train_tfidf, df['Lab Status']) #NBclassifier\n",
    "\n",
    "#Build a pipeline\n",
    "from sklearn.pipeline import Pipeline\n",
    "text_clf = Pipeline([('vect', CountVectorizer(stop_words='english')),\n",
    "                     ('tfidf', TfidfTransformer()),\n",
    "                     ('clf', MultinomialNB())\n",
    "                    ])\n",
    "text_clf = text_clf.fit(df_train['Notes'], df_train['Lab Status'])"
   ]
  },
  {
   "cell_type": "code",
   "execution_count": 21,
   "metadata": {},
   "outputs": [
    {
     "data": {
      "text/plain": [
       "0.9932789246279404"
      ]
     },
     "execution_count": 21,
     "metadata": {},
     "output_type": "execute_result"
    }
   ],
   "source": [
    "predicted= text_clf.predict(df_train['Notes'])\n",
    "np.mean(predicted == df_train['Lab Status'])"
   ]
  },
  {
   "cell_type": "code",
   "execution_count": 22,
   "metadata": {},
   "outputs": [],
   "source": [
    ">>> from sklearn.linear_model import SGDClassifier\n",
    ">>> text_clf_svm = Pipeline([('vect', CountVectorizer(stop_words='english')),\n",
    "...                      ('tfidf', TfidfTransformer()),\n",
    "...                      ('clf-svm', SGDClassifier(loss='hinge', penalty='l2',\n",
    "...                                            alpha=1e-3, max_iter=10, random_state=42)),\n",
    "... ])\n",
    "text_clf_svm = text_clf_svm.fit(df_train['Notes'], df_train['Lab Status'])"
   ]
  },
  {
   "cell_type": "code",
   "execution_count": 23,
   "metadata": {},
   "outputs": [
    {
     "name": "stdout",
     "output_type": "stream",
     "text": [
      "(2083,)\n",
      "0.9932789246279404\n"
     ]
    }
   ],
   "source": [
    "\n",
    "predicted_svm = text_clf_svm.predict(df_train['Notes'])\n",
    "print(predicted_svm.shape)\n",
    "percent_correct = np.mean(predicted_svm == df_train['Lab Status'])\n",
    "print(percent_correct)\n"
   ]
  },
  {
   "cell_type": "code",
   "execution_count": 24,
   "metadata": {},
   "outputs": [
    {
     "name": "stdout",
     "output_type": "stream",
     "text": [
      "[-0.77593618 -0.73095734 -0.60337299 ... -1.07409041 -1.12416086\n",
      " -1.0262919 ]\n"
     ]
    },
    {
     "data": {
      "image/png": "[encoded data removed]",
      "text/plain": [
       "<Figure size 432x288 with 1 Axes>"
      ]
     },
     "metadata": {},
     "output_type": "display_data"
    }
   ],
   "source": [
    "confidence = text_clf_svm.decision_function(df_train['Notes'])\n",
    "print(confidence)\n",
    "plt.hist(confidence, bins=80)\n",
    "plt.show()"
   ]
  },
  {
   "cell_type": "code",
   "execution_count": 25,
   "metadata": {},
   "outputs": [
    {
     "data": {
      "text/plain": [
       "2083"
      ]
     },
     "execution_count": 25,
     "metadata": {},
     "output_type": "execute_result"
    }
   ],
   "source": [
    "len(df_train)"
   ]
  },
  {
   "cell_type": "code",
   "execution_count": 26,
   "metadata": {},
   "outputs": [
    {
     "ename": "TypeError",
     "evalue": "len() takes exactly one argument (0 given)",
     "output_type": "error",
     "traceback": [
      "\u001b[0;31m---------------------------------------------------------------------------\u001b[0m",
      "\u001b[0;31mTypeError\u001b[0m                                 Traceback (most recent call last)",
      "\u001b[0;32m<ipython-input-26-d215197cff4e>\u001b[0m in \u001b[0;36m<module>\u001b[0;34m\u001b[0m\n\u001b[0;32m----> 1\u001b[0;31m \u001b[0mplt\u001b[0m\u001b[0;34m.\u001b[0m\u001b[0mplot\u001b[0m\u001b[0;34m(\u001b[0m\u001b[0mnp\u001b[0m\u001b[0;34m.\u001b[0m\u001b[0mlinspace\u001b[0m\u001b[0;34m(\u001b[0m\u001b[0mlen\u001b[0m\u001b[0;34m(\u001b[0m\u001b[0;34m)\u001b[0m\u001b[0;34m)\u001b[0m\u001b[0;34m,\u001b[0m \u001b[0mconfidence\u001b[0m\u001b[0;34m)\u001b[0m\u001b[0;34m\u001b[0m\u001b[0;34m\u001b[0m\u001b[0m\n\u001b[0m",
      "\u001b[0;31mTypeError\u001b[0m: len() takes exactly one argument (0 given)"
     ]
    }
   ],
   "source": [
    "plt.plot(np.linspace(len()), confidence)"
   ]
  },
  {
   "cell_type": "code",
   "execution_count": null,
   "metadata": {},
   "outputs": [],
   "source": []
  },
  {
   "cell_type": "code",
   "execution_count": null,
   "metadata": {},
   "outputs": [],
   "source": []
  },
  {
   "cell_type": "code",
   "execution_count": null,
   "metadata": {},
   "outputs": [],
   "source": []
  }
 ],
 "metadata": {
  "kernelspec": {
   "display_name": "Python 3",
   "language": "python",
   "name": "python3"
  },
  "language_info": {
   "codemirror_mode": {
    "name": "ipython",
    "version": 3
   },
   "file_extension": ".py",
   "mimetype": "text/x-python",
   "name": "python",
   "nbconvert_exporter": "python",
   "pygments_lexer": "ipython3",
   "version": "3.8.3"
  }
 },
 "nbformat": 4,
 "nbformat_minor": 4
}
