{
 "cells": [
  {
   "cell_type": "markdown",
   "metadata": {},
   "source": [
    "\n",
    "MCM 2021\n",
    "Murder Hornets"
   ]
  },
  {
   "cell_type": "code",
   "execution_count": 19,
   "metadata": {},
   "outputs": [],
   "source": [
    "import numpy as np\n",
    "import pandas as pd"
   ]
  },
  {
   "cell_type": "code",
   "execution_count": 23,
   "metadata": {},
   "outputs": [
    {
     "name": "stdout",
     "output_type": "stream",
     "text": [
      "                                    GlobalID Detection Date  \\\n",
      "0     {5AC8034E-5B46-4294-85F0-5B13117EBEFE}        12/8/19   \n",
      "1     {5EAD3364-2CA7-4A39-9A53-7F9DCF5D2041}       10/30/19   \n",
      "2     {13B67BCB-AFCE-4100-AD2B-76EF178BA228}        1/15/20   \n",
      "3     {124B9BFA-7F7B-4B8E-8A56-42E067F0F72E}        9/19/19   \n",
      "4     {BBBA5BA0-CAFB-43D3-8F1D-FB2D9CF777E0}        8/31/19   \n",
      "...                                      ...            ...   \n",
      "4435  {153C4ACC-72AE-4D87-AA80-4C714417F8C6}        10/2/20   \n",
      "4436  {26DDF8E2-DA0C-4F87-A65A-233115BAFCCD}        8/29/20   \n",
      "4437  {3E50801D-9DBB-43DE-8D32-31CFA88C74D9}       10/23/20   \n",
      "4438  {9BA7BDD9-01A5-4776-99B0-89FCE08CA53B}       10/19/20   \n",
      "4439  {7BD09981-CC6F-4FF8-8395-DABFF0D07A96}         8/4/20   \n",
      "\n",
      "                                                  Notes   Lab Status  \\\n",
      "0     One dead wasp seen in Blaine, and suspect flyi...  Positive ID   \n",
      "1                           Hornet specimen sent to WSU  Positive ID   \n",
      "2     Massive loss of bees, decapitated. No hornet s...   Unverified   \n",
      "3     This was the colony that was found and destroy...  Positive ID   \n",
      "4     I was cleaning my gutters when I heard a snapp...   Unverified   \n",
      "...                                                 ...          ...   \n",
      "4435  It was about an inch and a quarter in length. ...  Unprocessed   \n",
      "4436  I was stung several times on the 7th hole ov t...  Unprocessed   \n",
      "4437   Found dead in humming bird feeder. Silverdale WA  Unprocessed   \n",
      "4438  I live on Bainbridge Island on a heavily woode...  Unprocessed   \n",
      "4439  At Cresap bay campground in Washington, my fam...  Unprocessed   \n",
      "\n",
      "                                           Lab Comments Submission Date  \\\n",
      "0                                                               1/15/20   \n",
      "1                                                               1/15/20   \n",
      "2                                                               1/15/20   \n",
      "3       Thanks for adding this, and the great pictures!          2/4/20   \n",
      "4     Thanks for this report. I can't verify it from...         2/14/20   \n",
      "...                                                 ...             ...   \n",
      "4435                                                           10/23/20   \n",
      "4436                                                           10/23/20   \n",
      "4437                                                           10/23/20   \n",
      "4438                                                           10/23/20   \n",
      "4439                                                           10/23/20   \n",
      "\n",
      "       Latitude   Longitude  \n",
      "0     48.980994 -122.688503  \n",
      "1     48.971949 -122.700941  \n",
      "2     48.939200 -122.661300  \n",
      "3     49.149394 -123.943134  \n",
      "4     48.723779 -122.354431  \n",
      "...         ...         ...  \n",
      "4435  47.145673 -122.566734  \n",
      "4436  48.997938 -122.729890  \n",
      "4437  47.651710 -122.692750  \n",
      "4438  47.690120 -122.509780  \n",
      "4439  45.968985 -122.386562  \n",
      "\n",
      "[4440 rows x 8 columns]\n",
      "                                              FileName  \\\n",
      "0                                    ATT1_DSCN9647.jpg   \n",
      "1       ATT10_67EAF187-B59C-4F5F-BAAC-9F76E06A96D6.jpg   \n",
      "2                 ATT100_inbound241937372812029587.jpg   \n",
      "3     ATT1000_A5A50BAB-A6EF-4576-A1F8-A07862AADE3A.jpg   \n",
      "4     ATT1001_8B9F8599-61EF-4690-B195-888BCD319F32.png   \n",
      "...                                                ...   \n",
      "3300   ATT995_634322A0-FB93-4904-B8E6-E7805DE8B77B.jpg   \n",
      "3301       ATT996_15950526873699177528888853329465.jpg   \n",
      "3302   ATT997_638DCBB9-FA1A-4429-A59A-EB083A312EA5.jpg   \n",
      "3303                    ATT998_IMG_20200718_112045.jpg   \n",
      "3304               ATT999_Bremerton Hornet or Wasp.jpg   \n",
      "\n",
      "                                    GlobalID   FileType  Unnamed: 3  \n",
      "0     {5AC8034E-5B46-4294-85F0-5B13117EBEFE}  image/jpg         NaN  \n",
      "1     {C4F44511-EA53-4FCF-9422-E1C57703720D}  image/jpg         NaN  \n",
      "2     {43506835-18B8-46B2-A2CB-586AF9C8ECE6}  image/jpg         NaN  \n",
      "3     {E0AE2F2A-38A5-463C-97B5-9F84A477F9AE}  image/jpg         NaN  \n",
      "4     {1CD14B56-4046-44C4-B1B8-8FB07A9071E9}  image/png         NaN  \n",
      "...                                      ...        ...         ...  \n",
      "3300  {B0F58BD7-F815-4BA0-9E8E-C8355FD1B673}  image/jpg         NaN  \n",
      "3301  {1CF74577-C7D8-48D4-AD42-838F315A6668}  image/jpg         NaN  \n",
      "3302  {F6596CC2-FCB8-4829-852D-175E35D5623E}  image/jpg         NaN  \n",
      "3303  {8A61B7B3-D4D2-4520-8DF3-D972802D7E11}  image/jpg         NaN  \n",
      "3304  {8B586190-16FB-4B93-A2A2-254C2AF8288C}  image/jpg         NaN  \n",
      "\n",
      "[3305 rows x 4 columns]\n"
     ]
    }
   ],
   "source": [
    "df = pd.read_csv('/Users/allisonliu/Desktop/MCM2021/2021_MCM_Problem_C_Data/2021MCMProblemC_DataSet.csv')\n",
    "df_images = pd.read_csv('/Users/allisonliu/Desktop/MCM2021/2021_MCM_Problem_C_Data/2021MCM_ProblemC_ Images_by_GlobalID.csv')\n",
    "\n",
    "print(df)\n",
    "print(df_images)"
   ]
  },
  {
   "cell_type": "code",
   "execution_count": null,
   "metadata": {},
   "outputs": [],
   "source": []
  }
 ],
 "metadata": {
  "kernelspec": {
   "display_name": "Python 3",
   "language": "python",
   "name": "python3"
  },
  "language_info": {
   "codemirror_mode": {
    "name": "ipython",
    "version": 3
   },
   "file_extension": ".py",
   "mimetype": "text/x-python",
   "name": "python",
   "nbconvert_exporter": "python",
   "pygments_lexer": "ipython3",
   "version": "3.8.3"
  }
 },
 "nbformat": 4,
 "nbformat_minor": 4
}
